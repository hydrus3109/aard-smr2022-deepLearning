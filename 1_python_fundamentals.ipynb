{
  "nbformat": 4,
  "nbformat_minor": 0,
  "metadata": {
    "kernelspec": {
      "display_name": "Python 3",
      "language": "python",
      "name": "python3"
    },
    "language_info": {
      "codemirror_mode": {
        "name": "ipython",
        "version": 3
      },
      "file_extension": ".py",
      "mimetype": "text/x-python",
      "name": "python",
      "nbconvert_exporter": "python",
      "pygments_lexer": "ipython3",
      "version": "3.7.4"
    },
    "colab": {
      "name": "1_python_fundamentals.ipynb",
      "provenance": []
    }
  },
  "cells": [
    {
      "cell_type": "markdown",
      "metadata": {
        "id": "1uneEvio9KNp"
      },
      "source": [
        "## Fundamentals of Python\n",
        "\n",
        "Instructor - Mikhail Shalaginov (mys@mit.edu)\n",
        "\n",
        "Python is an interpreted, high-level, general-purpose programming language. You can just run it line by line (which is how we can use it in a notebook). So if you are quite new to programming, Python is a great place to start. The current version is Python 3, which is what we'll be using here.\n",
        "\n",
        "One way to code in Python is to use a Jupyter notebook. This is probably the best way to combine programming, text and images. In a notebook, everything is laid out in cells. Text cells and code cells are the most common. If you are viewing this section as a Jupyter notebook, the text you are now reading is in a text cell. A code cell can be found just below.\n",
        "\n",
        "To run the contents of a code cell, you can click on it and press <b>Shift + Enter</b>. To see the hotkeys list, press <b>H</b>."
      ]
    },
    {
      "cell_type": "markdown",
      "metadata": {
        "id": "sDFfw8LO9KNw"
      },
      "source": [
        "### Homework 1\n",
        "1) start your github account: https://github.com/ <br>\n",
        "2) join the slack channel: https://slack.com/ <br>\n",
        "3) get familiar with google colabs: https://research.google.com/colaboratory/ <br>\n",
        "4) install on your local computer Anaconda (python distribution package):https://www.anaconda.com/ <br>\n",
        "5) launch Jupyter Notebook on your local computer\n",
        " "
      ]
    },
    {
      "cell_type": "markdown",
      "metadata": {
        "id": "O9Cg4b5D9KNx"
      },
      "source": [
        "### References\n",
        "Mark Lutz, 'Learning Python: Powerful Object-Oriented Programming', O'Reilly Media, Inc., 2013. (Chapter 4)\n",
        "\n",
        "Dane Hillard, 'Practices of the Python Pro', Manning Publications, 2020.\n",
        "\n",
        "MIT course 6.0001 (Lecture 5 and 6): https://ocw.mit.edu/courses/electrical-engineering-and-computer-science/6-0001-introduction-to-computer-science-and-programming-in-python-fall-2016/lecture-videos/"
      ]
    },
    {
      "cell_type": "markdown",
      "metadata": {
        "id": "LqkvxSdZ9KNx"
      },
      "source": [
        "### -1. Hello Jupyter!"
      ]
    },
    {
      "cell_type": "code",
      "metadata": {
        "id": "WmRjAvqm9KNy"
      },
      "source": [
        "#no instructions"
      ],
      "execution_count": null,
      "outputs": []
    },
    {
      "cell_type": "markdown",
      "metadata": {
        "id": "2N2PtPjIIulg"
      },
      "source": [
        ""
      ]
    },
    {
      "cell_type": "code",
      "metadata": {
        "id": "MlKbrMWCI5pb"
      },
      "source": [
        "help"
      ],
      "execution_count": null,
      "outputs": []
    },
    {
      "cell_type": "markdown",
      "metadata": {
        "id": "bSyALwWr9KN0"
      },
      "source": [
        "### 0. Coding inside the cells"
      ]
    },
    {
      "cell_type": "code",
      "metadata": {
        "id": "njwjDh4O9KN1"
      },
      "source": [
        "#displaying todays date and time\n",
        "from datetime import date\n",
        "today = date.today()\n",
        "date = today.strftime(\"%Y%m%d\")\n",
        "date"
      ],
      "execution_count": null,
      "outputs": []
    },
    {
      "cell_type": "code",
      "metadata": {
        "id": "-MK4J3VL9KN2"
      },
      "source": [
        "#sum up all the digits of todays date \n"
      ],
      "execution_count": null,
      "outputs": []
    },
    {
      "cell_type": "code",
      "metadata": {
        "id": "AEZPsOOX9KN2"
      },
      "source": [
        "#create two variables 'month' and 'date'; and calculate how many days already passed since the beginning of the year\n"
      ],
      "execution_count": null,
      "outputs": []
    },
    {
      "cell_type": "markdown",
      "metadata": {
        "id": "pvaArHqz9KN3"
      },
      "source": [
        "### 1. Simple inputs and operations"
      ]
    },
    {
      "cell_type": "markdown",
      "metadata": {
        "id": "r-JKp2IP9KN3"
      },
      "source": [
        "numbers: integers (32 bit, e.g. 11), floating-point numbers (64 bit, e.g. 3.14159)<br>\n",
        "strings of ASCII symbols: 'Beautiful is better than ugly.'<br>\n",
        "boolean: True or False <br>\n",
        "None\n",
        "\n",
        "type() - function displaying the type<br>\n",
        "print() - printing the value<br>\n",
        "\n",
        "converting types: int(), float(), str(), bool()<br>\n",
        "\n",
        "numerical operators: =, + (addition and concatenation), -, *, /, //(integer division), **<br>\n",
        "logical operators: ==, and, or, is (pointing to the same object in memory), is not<br>"
      ]
    },
    {
      "cell_type": "code",
      "metadata": {
        "id": "ClqOwVWQ9KN4"
      },
      "source": [
        "#please use comments extensively in your codes (or press ctrl+/) "
      ],
      "execution_count": null,
      "outputs": []
    },
    {
      "cell_type": "code",
      "metadata": {
        "id": "YN5fGRgr9KN4"
      },
      "source": [
        "#what is the type of x?\n",
        "x = '5'"
      ],
      "execution_count": null,
      "outputs": []
    },
    {
      "cell_type": "code",
      "metadata": {
        "id": "jZEsbFOd9KN5"
      },
      "source": [
        "#convert variable x from str to int\n",
        "#confirm its type\n"
      ],
      "execution_count": null,
      "outputs": []
    },
    {
      "cell_type": "code",
      "metadata": {
        "id": "aWlr3gra9KN5"
      },
      "source": [
        "#what is bool(y)?"
      ],
      "execution_count": null,
      "outputs": []
    },
    {
      "cell_type": "markdown",
      "metadata": {
        "id": "YsLyaftp9KN5"
      },
      "source": [
        "### 2. Structures\n"
      ]
    },
    {
      "cell_type": "markdown",
      "metadata": {
        "id": "eXCoQN2M9KN6"
      },
      "source": [
        "tuples (immutable): tuple1 = (1,2.0,'b', True, 1)<br>\n",
        "lists (mutable): list1 = [1,2.0,'b', True, 1]<br>\n",
        "sets (unordered and don't have duplicates): set1 = {1,2.0,'b', True, 1}<br>\n",
        "dictionaries (key & value): dict1 = {'a':0, 'b':1, 'c':'two'} <br>\n",
        "nested structures (e.g. 2D tables, matrices): table = [[1,2,3],[4,5,6],[7,8,9]]<br>\n",
        "\n",
        "structures are indexed from 0 to n-1: list1[0], list1[-1]<br>\n",
        "slicing - selecting a range of elements: list1[0:2:1] or table[0][2]<br>\n",
        "stride - step in picking up the structure elements (by default stride is set to 1), list1[::2]\n",
        "\n",
        "methods: add an element at the end (e.g list1.append(),.replace(x,y), .find(x), .sort(), .remove (for sets), .union)<br>\n",
        "functions: del(), type(), len(), expand(), split(',')<br>"
      ]
    },
    {
      "cell_type": "code",
      "metadata": {
        "scrolled": true,
        "id": "JbCMzQjg9KN6"
      },
      "source": [
        "#make a list 'parameters' [0,1,2,3] and print the first and last parameter values\n"
      ],
      "execution_count": null,
      "outputs": []
    },
    {
      "cell_type": "code",
      "metadata": {
        "id": "6WSbmI-a9KN6"
      },
      "source": [
        "#change last (or any) parameter to 10\n"
      ],
      "execution_count": null,
      "outputs": []
    },
    {
      "cell_type": "code",
      "metadata": {
        "id": "K0U55xpN9KN7"
      },
      "source": [
        "#add an element to the end of a list by using a method 'append'.\n"
      ],
      "execution_count": null,
      "outputs": []
    },
    {
      "cell_type": "code",
      "metadata": {
        "id": "KUu3eTkR9KN7"
      },
      "source": [
        "#slice from 2nd to 4th element\n"
      ],
      "execution_count": null,
      "outputs": []
    },
    {
      "cell_type": "code",
      "metadata": {
        "id": "bHBHqKbc9KN8"
      },
      "source": [
        "#change stride to 2\n"
      ],
      "execution_count": null,
      "outputs": []
    },
    {
      "cell_type": "code",
      "metadata": {
        "id": "kwgunRvP9KN8"
      },
      "source": [
        "#nested tuples and lists (e.g. 2D arrays and matrices)\n",
        "#create any nested list, i.e. a list containing lists"
      ],
      "execution_count": null,
      "outputs": []
    },
    {
      "cell_type": "code",
      "metadata": {
        "id": "jStAY2_J9KN9"
      },
      "source": [
        "#create an arbitrary dictionary with 3 keys (one of them is 'label1') and 3 values\n"
      ],
      "execution_count": null,
      "outputs": []
    },
    {
      "cell_type": "code",
      "metadata": {
        "id": "YaNg5FBN9KN9"
      },
      "source": [
        "#read the value of the dictionary with the key 'label1'\n"
      ],
      "execution_count": null,
      "outputs": []
    },
    {
      "cell_type": "code",
      "metadata": {
        "id": "8-fQ1ENv9KN9"
      },
      "source": [
        "#add new key/value pair\n"
      ],
      "execution_count": null,
      "outputs": []
    },
    {
      "cell_type": "markdown",
      "metadata": {
        "id": "KUTuJy1S9KN9"
      },
      "source": [
        "#### 3. Some tricks"
      ]
    },
    {
      "cell_type": "code",
      "metadata": {
        "id": "vI7qQRuB9KN-"
      },
      "source": [
        "#cloning an object - introducing two variables for the same list\n"
      ],
      "execution_count": null,
      "outputs": []
    },
    {
      "cell_type": "code",
      "metadata": {
        "id": "35nuAD539KN-"
      },
      "source": [
        ""
      ],
      "execution_count": null,
      "outputs": []
    },
    {
      "cell_type": "code",
      "metadata": {
        "id": "oLNysIGM9KN-"
      },
      "source": [
        ""
      ],
      "execution_count": null,
      "outputs": []
    },
    {
      "cell_type": "code",
      "metadata": {
        "id": "zRkyAe8n9KN-"
      },
      "source": [
        "#what is the difference between lists and tuples?\n",
        "#mutable and immutable\n"
      ],
      "execution_count": null,
      "outputs": []
    },
    {
      "cell_type": "code",
      "metadata": {
        "id": "notqsx6k9KN-"
      },
      "source": [
        ""
      ],
      "execution_count": null,
      "outputs": []
    },
    {
      "cell_type": "code",
      "metadata": {
        "id": "VpIvmKhJ9KN_"
      },
      "source": [
        ""
      ],
      "execution_count": null,
      "outputs": []
    },
    {
      "cell_type": "code",
      "metadata": {
        "id": "LKbZqNZt9KN_"
      },
      "source": [
        "#find a way to change the last element of the x list\n"
      ],
      "execution_count": null,
      "outputs": []
    },
    {
      "cell_type": "code",
      "metadata": {
        "id": "3hh4AUwz9KN_"
      },
      "source": [
        ""
      ],
      "execution_count": null,
      "outputs": []
    },
    {
      "cell_type": "code",
      "metadata": {
        "id": "zVhip3YN9KN_"
      },
      "source": [
        "#make a filename as a sum of todays date, text description (e.g.'testRun'), cycle number (cycle = 4), \n",
        "#and file extension (.csv) "
      ],
      "execution_count": null,
      "outputs": []
    },
    {
      "cell_type": "code",
      "metadata": {
        "id": "SLYR2fyr9KOA"
      },
      "source": [
        ""
      ],
      "execution_count": null,
      "outputs": []
    },
    {
      "cell_type": "code",
      "metadata": {
        "id": "c5cCExY99KOA"
      },
      "source": [
        "#find and replace methods for strings\n"
      ],
      "execution_count": null,
      "outputs": []
    },
    {
      "cell_type": "code",
      "metadata": {
        "id": "NEZITPgN9KOA"
      },
      "source": [
        "#split\n"
      ],
      "execution_count": null,
      "outputs": []
    },
    {
      "cell_type": "code",
      "metadata": {
        "id": "yT7nZ3Et9KOA"
      },
      "source": [
        "#list all of the standard methods (dir())\n"
      ],
      "execution_count": null,
      "outputs": []
    },
    {
      "cell_type": "code",
      "metadata": {
        "id": "y-0owrB69KOA"
      },
      "source": [
        "#check methods/attributes: help()\n"
      ],
      "execution_count": null,
      "outputs": []
    },
    {
      "cell_type": "markdown",
      "metadata": {
        "id": "MUTQApAD9KOA"
      },
      "source": [
        "#### 4. Creative zone (Homework 2)"
      ]
    },
    {
      "cell_type": "code",
      "metadata": {
        "id": "llKKEcyU9KOA"
      },
      "source": [
        "#write your own program using the knowledge from the lecture"
      ],
      "execution_count": null,
      "outputs": []
    },
    {
      "cell_type": "code",
      "metadata": {
        "id": "0mSbeUdX9KOB"
      },
      "source": [
        ""
      ],
      "execution_count": null,
      "outputs": []
    },
    {
      "cell_type": "code",
      "metadata": {
        "id": "I3jM-RMg9KOB"
      },
      "source": [
        ""
      ],
      "execution_count": null,
      "outputs": []
    },
    {
      "cell_type": "code",
      "metadata": {
        "id": "ICLVO1Vz9KOB"
      },
      "source": [
        ""
      ],
      "execution_count": null,
      "outputs": []
    }
  ]
}